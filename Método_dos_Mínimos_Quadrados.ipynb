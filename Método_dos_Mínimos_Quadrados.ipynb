{
  "nbformat": 4,
  "nbformat_minor": 0,
  "metadata": {
    "colab": {
      "provenance": [],
      "authorship_tag": "ABX9TyP1l9T2LZXoVD5m3kJEVhwc",
      "include_colab_link": true
    },
    "kernelspec": {
      "name": "python3",
      "display_name": "Python 3"
    },
    "language_info": {
      "name": "python"
    }
  },
  "cells": [
    {
      "cell_type": "markdown",
      "metadata": {
        "id": "view-in-github",
        "colab_type": "text"
      },
      "source": [
        "<a href=\"https://colab.research.google.com/github/estudos-wanderson/Modelagem-Matem-tica/blob/main/M%C3%A9todo_dos_M%C3%ADnimos_Quadrados.ipynb\" target=\"_parent\"><img src=\"https://colab.research.google.com/assets/colab-badge.svg\" alt=\"Open In Colab\"/></a>"
      ]
    },
    {
      "cell_type": "markdown",
      "source": [
        "# **Ajuste de Função Polinomial**\n",
        "\n",
        "Ocorre quando temos como entrada uma tabela de pontos de dados, $(x_i, y_i)$ para $j= 0, 1, \\dots, n-1$, e desejamos determinar uma função polinomial $f(x)$ mais próxima dos dados, considerando uma ordem do polinômio $m < n$. Essa metodologia não se limita a retas. Podemos usar o mesmo princípio dos mínimos quadrados para ajustar funções mais complexas, como polinômios de grau $m$:\n",
        "$$ p(x) = a_0 + a_1x + a_2x^2 + \\dots + a_mx^m $$\n",
        "\n",
        "Se queremos ajustar um polinômio de grau $m$ a $n$ pontos de dados $(x_i, y_i)$, o resíduo para cada ponto é:\n",
        "\n",
        "$$ e_i = y_i - (a_0 + a_1x_i + a_2x_i^2 + \\dots + a_mx_i^m) $$\n",
        "A soma dos quadrados dos resíduos $Q(a_0, a_1, \\dots, a_m)$ é:\n",
        "\n",
        "$$ Q = \\sum_{i} [y_i - (a_0 + a_1x_i + a_2x_i^2 + \\dots + a_mx_i^m)]^2 $$\n",
        "\n",
        "Para minimizar $Q$, tomamos as derivadas parciais em relação a cada coeficiente $a_j$ ($j= 0, \\dots, m$) e as igualamos a zero. Isso resultará em um sistema de $m+1$ equações lineares com $m+1$ incógnitas ($a_0, \\dots, a_m$).\n",
        "\n",
        "## **Forma Matricial do Ajuste Polinomial**\n",
        "\n",
        "A forma matricial para o ajuste polinomial é uma generalização direta do caso linear. O vetor de parâmetros é:\n",
        "$$ \\mathbf{z} = \\begin{bmatrix} a_0 \\\\ a_1 \\\\ \\vdots \\\\ a_m \\end{bmatrix} $$\n",
        "A matriz $A$ (matriz de Vandermonde) para um polinômio de grau $m$ e $n$ pontos é:\n",
        "\n",
        "$$ A = \\begin{bmatrix}\n",
        "1 & x_1 & x_1^2 & \\dots & x_1^m \\\\\n",
        "1 & x_2 & x_2^2 & \\dots & x_2^m \\\\\n",
        "\\vdots & \\vdots & \\vdots & \\ddots & \\vdots \\\\\n",
        "1 & x_n & x_n^2 & \\dots & x_n^m\n",
        "\\end{bmatrix} $$\n",
        "\n",
        "Note que cada coluna corresponde a uma potência de $x$. A primeira coluna ($x^0$) é de $1$s (para o coeficiente $a_0$), a segunda é $x_i$ (para $a_1$), e assim por diante. Além disso, observe que temos $m$ incógnitas e $n$ pontos de dados. Logo, possuímos um sistema com mais equações que incógnitas. Assim, pelo princípio dos mínimos quadrados, a forma matricial do sistema de equações permanece igual; veja!\n",
        "\n",
        "$$ A^\\top A \\mathbf{z} = A^\\top \\mathbf{y} $$\n",
        "\n",
        "E a solução é:\n",
        "\n",
        "$$ \\mathbf{z} = (A^\\top A)^{-1} A^\\top \\mathbf{y} $$\n",
        "\n",
        "Que fornece os coeficientes $a_0, \\dots, a_m$."
      ],
      "metadata": {
        "id": "VKwLU-MX67TX"
      }
    },
    {
      "cell_type": "code",
      "execution_count": 16,
      "metadata": {
        "id": "jWqL0QC44jvU"
      },
      "outputs": [],
      "source": [
        "import numpy as np\n",
        "from typing import List, Tuple\n",
        "\n",
        "def least_square_fit(p: List[Tuple[float]], m: int):\n",
        "    x, B = map(np.array, zip(*p))\n",
        "    n = len(x)\n",
        "    A = np.zeros([n, m+1])\n",
        "    for k in range(m+1):\n",
        "        A[:, k] = x ** k\n",
        "\n",
        "    a = A.T @ A\n",
        "    b = A.T @ B\n",
        "    sol = np.linalg.solve(a, b)\n",
        "    return np.poly1d(sol[::-1])"
      ]
    },
    {
      "cell_type": "code",
      "source": [
        "points = [\n",
        "    (1, 100),\n",
        "    (2, 300),\n",
        "    (3, 200),\n",
        "    (4, 400),\n",
        "    (5, 200)\n",
        "]\n",
        "m = 2\n",
        "\n",
        "pol = least_square_fit(points, m)\n",
        "print(pol)"
      ],
      "metadata": {
        "colab": {
          "base_uri": "https://localhost:8080/"
        },
        "id": "joCwP3Xe8vEj",
        "outputId": "7d74636b-7918-4c8c-e2b1-fc5dee1e4b10"
      },
      "execution_count": 33,
      "outputs": [
        {
          "output_type": "stream",
          "name": "stdout",
          "text": [
            "        2\n",
            "-35.71 x + 244.3 x - 100\n"
          ]
        }
      ]
    },
    {
      "cell_type": "code",
      "source": [
        "import numpy as np\n",
        "import matplotlib.pyplot as plt\n",
        "\n",
        "def plotar_ajuste_polinomial(pontos: list, m: int):\n",
        "    \"\"\"\n",
        "    Plota os pontos de dados originais e o polinômio de ajuste usando subplots.\n",
        "\n",
        "    Args:\n",
        "        pontos (list): Lista de tuplas (x, y) dos pontos de dados originais.\n",
        "        polinomio (np.poly1d): O objeto np.poly1d que representa o polinômio de ajuste.\n",
        "    \"\"\"\n",
        "    # 1. Preparar os dados para plotagem\n",
        "    x_orig, y_orig = zip(*pontos)\n",
        "    polinomio = least_square_fit(pontos, m)\n",
        "\n",
        "    # Gerar pontos suaves para a linha do polinômio\n",
        "    # Usamos os limites dos pontos originais para definir o intervalo do gráfico\n",
        "    x_min, x_max = min(x_orig), max(x_orig)\n",
        "    x_linha = np.linspace(x_min, x_max, 400)\n",
        "    y_linha = polinomio(x_linha)\n",
        "\n",
        "    # 2. Criar a figura e os eixos\n",
        "    fig, ax = plt.subplots()\n",
        "\n",
        "    # 3. Plotar os dados usando os métodos do objeto 'ax'\n",
        "    # Plotar os pontos de dados originais\n",
        "    ax.scatter(x_orig, y_orig, color='red', label='Pontos de Dados Originais')\n",
        "\n",
        "    # Plotar a linha do polinômio de ajuste\n",
        "    ax.plot(x_linha, y_linha, color='blue', label='Polinômio de Ajuste')\n",
        "\n",
        "    # 4. Configurar o gráfico usando os métodos do objeto 'ax'\n",
        "    ax.set_title('Ajuste Polinomial')\n",
        "    ax.set_xlabel('Eixo X')\n",
        "    ax.set_ylabel('Eixo Y')\n",
        "    ax.grid(True)\n",
        "    ax.legend()\n",
        "\n",
        "    # Opcional: ajustar a escala dos eixos para evitar espaços em branco\n",
        "    ax.axis('tight')\n",
        "\n",
        "    # 5. Exibir o gráfico\n",
        "    plt.show()\n",
        "\n",
        "points = [(0, 1), (1, 3), (2, 5), (3, 8), (4, 11), (5, 15)]\n",
        "\n",
        "# Chamar a função para plotar o gráfico\n",
        "plotar_ajuste_polinomial(points, m=1)"
      ],
      "metadata": {
        "colab": {
          "base_uri": "https://localhost:8080/",
          "height": 472
        },
        "id": "UIq0U5C89efe",
        "outputId": "0d067896-491e-43cd-db52-85cddb86b07d"
      },
      "execution_count": 30,
      "outputs": [
        {
          "output_type": "display_data",
          "data": {
            "text/plain": [
              "<Figure size 640x480 with 1 Axes>"
            ],
            "image/png": "[encoded data removed]"
          },
          "metadata": {}
        }
      ]
    },
    {
      "cell_type": "markdown",
      "source": [
        "# **Ajuste de Funções Não Polinomiais**\n",
        "\n",
        "Às vezes, na procura de uma modelagem matemática adequada para descrever algum fenômeno natural, as funções polinomiais não apresentam boa resposta. Dentro da ciência, é comum os dados terem semelhanças com funções trigonométricas, devido à periodicidade, ou com funções exponenciais e logarítmicas, por causa do crescimento.\n",
        "\n",
        "O poder do método dos mínimos quadrados reside no fato de que ele se aplica a qualquer modelo que seja linear nos parâmetros que queremos estimar, mesmo que as funções base envolvidas não sejam polinomiais.\n",
        "\n",
        "Considere um modelo da forma:\n",
        "\n",
        "$$ y = m_1f_1(x) + m_2f_2(x) + \\dots + m_kf_k(x) $$\n",
        "\n",
        "Na equação, $f_1(x), f_2(x), \\dots, f_k(x)$ são funções conhecidas de $x$, chamadas funções base, e $m_1, m_2, \\dots, m_k$ são os parâmetros a serem estimados. Assim, a matriz $A$ para esse caso terá colunas formadas pelos valores das funções base $f_j(x_i)$. Veja!\n",
        "\n",
        "$$ A = \\begin{bmatrix}\n",
        "f_1(x_1) & f_2(x_1) & \\dots & f_k(x_1) \\\\\n",
        "f_1(x_2) & f_2(x_2) & \\dots & f_k(x_2) \\\\\n",
        "\\vdots & \\vdots & \\ddots & \\vdots \\\\\n",
        "f_1(x_n) & f_2(x_n) & \\dots & f_k(x_n)\n",
        "\\end{bmatrix} \\quad \\text{e o vetor de parâmetros:} \\quad \\mathbf{z} = \\begin{bmatrix} m_1 \\\\ m_2 \\\\ \\vdots \\\\ m_k \\end{bmatrix} $$\n",
        "\n",
        "Assim, teremos o mesmo sistema de equações já visto:\n",
        "\n",
        "$$ A^\\top A \\mathbf{z} = A^\\top \\mathbf{y} $$\n",
        "\n",
        "Com a seguinte solução:\n",
        "\n",
        "$$ \\mathbf{z} = (A^\\top A)^{-1} A^\\top \\mathbf{y} $$"
      ],
      "metadata": {
        "id": "QvX0kppPB1mq"
      }
    },
    {
      "cell_type": "code",
      "source": [
        "import numpy as np\n",
        "from typing import List, Tuple, Callable\n",
        "\n",
        "def least_square_fit_non_polynomial(points: List[Tuple[float]], *functions: Callable):\n",
        "    x, B = map(np.array, zip(*points))\n",
        "    n = len(x)\n",
        "    k = len(functions)\n",
        "    A = np.zeros([n, k])\n",
        "    for row in range(n):\n",
        "        A[row] = np.array([f(x[row]) for f in functions])\n",
        "    a = A.T @ A\n",
        "    b = A.T @ B\n",
        "    sol = np.linalg.solve(a, b)\n",
        "    return sol"
      ],
      "metadata": {
        "id": "WTcjRSgfAlAR"
      },
      "execution_count": 39,
      "outputs": []
    },
    {
      "cell_type": "code",
      "source": [
        "from math import log, sin, exp\n",
        "\n",
        "points = [(1,100),(2,300),(3,200),(4,400),(5,200)]\n",
        "sol = least_square_fit_non_polynomial(points, log, sin, exp)\n",
        "print(sol)"
      ],
      "metadata": {
        "colab": {
          "base_uri": "https://localhost:8080/"
        },
        "id": "JaeENgGiD9aU",
        "outputId": "8cac40ed-040f-411d-966f-902584bd36f0"
      },
      "execution_count": 40,
      "outputs": [
        {
          "output_type": "stream",
          "name": "stdout",
          "text": [
            "[304.15955733  69.18550992  -1.33592329]\n"
          ]
        }
      ]
    },
    {
      "cell_type": "code",
      "source": [],
      "metadata": {
        "id": "P6ZEj38BF1Kw"
      },
      "execution_count": null,
      "outputs": []
    }
  ]
}