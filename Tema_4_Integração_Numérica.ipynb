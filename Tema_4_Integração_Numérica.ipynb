{
  "nbformat": 4,
  "nbformat_minor": 0,
  "metadata": {
    "colab": {
      "provenance": [],
      "include_colab_link": true
    },
    "kernelspec": {
      "name": "python3",
      "display_name": "Python 3"
    },
    "language_info": {
      "name": "python"
    }
  },
  "cells": [
    {
      "cell_type": "markdown",
      "metadata": {
        "id": "view-in-github",
        "colab_type": "text"
      },
      "source": [
        "<a href=\"https://colab.research.google.com/github/estudos-wanderson/Modelagem-Matem-tica/blob/main/Tema_4_Integra%C3%A7%C3%A3o_Num%C3%A9rica.ipynb\" target=\"_parent\"><img src=\"https://colab.research.google.com/assets/colab-badge.svg\" alt=\"Open In Colab\"/></a>"
      ]
    },
    {
      "cell_type": "markdown",
      "source": [
        "# Método dos Retângulos\n",
        "\n",
        "O método que veremos neste módulo é o **Método dos Retângulos**. O princípio básico para fazer a aproximação da integral definida por $\\int_a^b f(x)dx$ é dividir o intervalo de integração $[a,b]$ em $n$ partes iguais.\n",
        "\n",
        "Dessa maneira, a integral é calculada de acordo com a expressão apresentada a seguir:\n",
        "\n",
        "$$\\displaystyle \\sum_{i=1}^n \\alpha_i f(x_i) = h \\sum_{i=1}^n f\\left(\\frac{x_i + x_{i+1}}{2}\\right)$$"
      ],
      "metadata": {
        "id": "0_2MP1J1Ii8Y"
      }
    },
    {
      "cell_type": "code",
      "execution_count": 15,
      "metadata": {
        "id": "Fn_zXDj-HhPG"
      },
      "outputs": [],
      "source": [
        "import numpy as np\n",
        "from typing import Callable, Tuple\n",
        "\n",
        "def metodo_retangulos(f: Callable[[float], float], I: Tuple[float], n: int) -> float:\n",
        "    a, b = I\n",
        "    x = np.linspace(a, b, n + 1)\n",
        "    h = (b - a) / n\n",
        "    return h * np.sum(f((x[1:] + x[:-1]) / 2))"
      ]
    },
    {
      "cell_type": "markdown",
      "source": [
        "# Método dos Trapézios\n",
        "\n",
        "Você pode se perguntar: tem como fazer melhor? Podemos fazer, pelo menos, de duas formas diferentes: reduzindo o tamanho do intervalo $h$ ou aprimorando a função de aproximação, o que veremos a seguir, com a apresentação do **Método dos Trapézios**.\n",
        "\n",
        "Nesse método, a estratégia para fazer o cálculo da aproximação da integral definida por $\\int_a^b f(x)dx$ também consiste em dividir o intervalo de integração $[a,b]$ em $n$ partes iguais. Só que a expressão de cálculo dentro de cada intervalo é diferente daquela que vimos para o método anterior. Nesse caso, a integral é calculada de acordo com a expressão apresentada a seguir:\n",
        "\n",
        "$$\n",
        "\\sum_{i=1}^n \\alpha_i f(x_i) = h \\sum_{i=1}^n \\frac{f(x_i) + f(x_{i+1})}{2}\n",
        "$$"
      ],
      "metadata": {
        "id": "43btp75ZL4lf"
      }
    },
    {
      "cell_type": "code",
      "source": [
        "import numpy as np\n",
        "from typing import Callable, Tuple\n",
        "\n",
        "def metodo_trapezios(f: Callable[[float], float], I: Tuple[float], n: int) -> float:\n",
        "    a, b = I\n",
        "    x = np.linspace(a, b, n + 1)\n",
        "    x_i = x[:-1]\n",
        "    x_ip1 = x[1:]\n",
        "    h = (b - a) / n\n",
        "    return (h / 2) * np.sum((f(x_i) + f(x_ip1)))"
      ],
      "metadata": {
        "id": "5P3hjL-oJ_r6"
      },
      "execution_count": 17,
      "outputs": []
    },
    {
      "cell_type": "markdown",
      "source": [
        "# Método de Simpson\n",
        "\n",
        "$$\n",
        "\\sum_{i=1}^n \\alpha_i f(x_i) = h \\sum_{i=1}^n \\frac{f(x_i) + 4f(y) + f(x_{i+1})}{6}, \\text{ onde } y = \\frac{x_i + x_{i+1}}{2}\n",
        "$$"
      ],
      "metadata": {
        "id": "89L4ScTnNJtF"
      }
    },
    {
      "cell_type": "code",
      "source": [
        "import numpy as np\n",
        "from typing import Callable, Tuple\n",
        "\n",
        "def metodo_simpson(f: Callable[[float], float], I: Tuple[float], n: int) -> float:\n",
        "    a, b = I\n",
        "    x = np.linspace(a, b, n + 1)\n",
        "    x_i = x[:-1]\n",
        "    x_ip1 = x[1:]\n",
        "    y = (x_i + x_ip1) / 2\n",
        "    h = (b - a) / n\n",
        "    return (h / 6) * np.sum(f(x_i) + 4 * f(y) + f(x_ip1))"
      ],
      "metadata": {
        "id": "pWi8ug52MkIi"
      },
      "execution_count": 19,
      "outputs": []
    },
    {
      "cell_type": "markdown",
      "source": [
        "# Método de Romberg\n",
        "\n",
        "A integração de Romberg é um método de integração numérica que usa a extrapolação de Richardson para gerar uma aproximação mais precisa de uma integral definida. Ele é mais eficiente que o método dos trapézios simples, pois usa os resultados de integrações anteriores para refinar a precisão.\n",
        "\n",
        "Para implementar o método de integração de Romberg em Python, você pode seguir os seguintes passos, usando como base a fórmula de extrapolação:\n",
        "\n",
        "$$R(k,j)= \\dfrac{4^j \\cdot R(k, j-1) - R(k-1, j-1)}{4^j - 1}$$\n",
        "\n",
        "Onde:\n",
        "\n",
        "- $R(k,j)$ é a aproximação de Romberg.\n",
        "\n",
        "- $k$ é o número de divisões.\n",
        "\n",
        "- $j$ é a ordem da extrapolação.\n",
        "\n"
      ],
      "metadata": {
        "id": "OmVQA2xVP0lR"
      }
    },
    {
      "cell_type": "code",
      "source": [
        "def romberg_integration(f, a, b, n_max, tol=1e-10):\n",
        "    R = np.zeros((n_max, n_max))\n",
        "\n",
        "    # Preenche a primeira coluna com o método dos trapézios.\n",
        "    for i in range(n_max):\n",
        "        n = 2**i\n",
        "        R[i, 0] = metodo_trapezios(f, a, b, n)\n",
        "\n",
        "    # Preenche as outras colunas usando a extrapolação de Richardson.\n",
        "    for j in range(1, n_max):\n",
        "        for i in range(j, n_max):\n",
        "            R[i, j] = (4**j * R[i, j-1] - R[i-1, j-1]) / (4**j - 1)\n",
        "\n",
        "            # Critério de parada.\n",
        "            if i > 0 and abs(R[i, j] - R[i-1, j]) < tol:\n",
        "                return R[i, j]\n",
        "\n",
        "    return R[n_max-1, n_max-1]"
      ],
      "metadata": {
        "id": "K5IpiiywNIxU"
      },
      "execution_count": 24,
      "outputs": []
    },
    {
      "cell_type": "code",
      "source": [],
      "metadata": {
        "id": "MImELVqZRYuM"
      },
      "execution_count": null,
      "outputs": []
    }
  ]
}