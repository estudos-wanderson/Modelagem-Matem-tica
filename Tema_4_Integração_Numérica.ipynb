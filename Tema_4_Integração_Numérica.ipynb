{
  "nbformat": 4,
  "nbformat_minor": 0,
  "metadata": {
    "colab": {
      "provenance": [],
      "authorship_tag": "ABX9TyMAHvcH+H79hv93/O9GXCjo",
      "include_colab_link": true
    },
    "kernelspec": {
      "name": "python3",
      "display_name": "Python 3"
    },
    "language_info": {
      "name": "python"
    }
  },
  "cells": [
    {
      "cell_type": "markdown",
      "metadata": {
        "id": "view-in-github",
        "colab_type": "text"
      },
      "source": [
        "<a href=\"https://colab.research.google.com/github/estudos-wanderson/Modelagem-Matem-tica/blob/main/Tema_4_Integra%C3%A7%C3%A3o_Num%C3%A9rica.ipynb\" target=\"_parent\"><img src=\"https://colab.research.google.com/assets/colab-badge.svg\" alt=\"Open In Colab\"/></a>"
      ]
    },
    {
      "cell_type": "markdown",
      "source": [
        "# Método dos Retângulos\n",
        "\n",
        "O método que veremos neste módulo é o **Método dos Retângulos**. O princípio básico para fazer a aproximação da integral definida por $\\int_a^b f(x)dx$ é dividir o intervalo de integração $[a,b]$ em $n$ partes iguais.\n",
        "\n",
        "Dessa maneira, a integral é calculada de acordo com a expressão apresentada a seguir:\n",
        "\n",
        "$$\\displaystyle \\sum_{i=1}^n \\alpha_i f(x_i) = h \\sum_{i=1}^n f\\left(\\frac{x_i + x_{i+1}}{2}\\right)$$"
      ],
      "metadata": {
        "id": "0_2MP1J1Ii8Y"
      }
    },
    {
      "cell_type": "code",
      "execution_count": 2,
      "metadata": {
        "id": "Fn_zXDj-HhPG"
      },
      "outputs": [],
      "source": [
        "import numpy as np\n",
        "from typing import Callable, Tuple\n",
        "\n",
        "def metodo_retangulos(f: Callable[[float], float], I: Tuple[float], n: int) -> float:\n",
        "    a, b = I\n",
        "    x = np.linspace(a, b, n + 1)\n",
        "    h = (b - a) / n\n",
        "    return h * np.sum(f((x[1:] + x[:-1]) / 2))"
      ]
    },
    {
      "cell_type": "code",
      "source": [
        "f = np.sin\n",
        "I = (0, 2)\n",
        "n = 4\n",
        "metodo_retangulos(f, I, n)"
      ],
      "metadata": {
        "colab": {
          "base_uri": "https://localhost:8080/"
        },
        "id": "C3ut3FxjJoEm",
        "outputId": "92e34332-1d77-4905-a556-68fe3c32ba71"
      },
      "execution_count": 7,
      "outputs": [
        {
          "output_type": "execute_result",
          "data": {
            "text/plain": [
              "np.float64(1.4310066427536903)"
            ]
          },
          "metadata": {},
          "execution_count": 7
        }
      ]
    },
    {
      "cell_type": "markdown",
      "source": [
        "# Método dos Trapézios\n",
        "\n",
        "Você pode se perguntar: tem como fazer melhor? Podemos fazer, pelo menos, de duas formas diferentes: reduzindo o tamanho do intervalo $h$ ou aprimorando a função de aproximação, o que veremos a seguir, com a apresentação do **Método dos Trapézios**.\n",
        "\n",
        "Nesse método, a estratégia para fazer o cálculo da aproximação da integral definida por $\\int_a^b f(x)dx$ também consiste em dividir o intervalo de integração $[a,b]$ em $n$ partes iguais. Só que a expressão de cálculo dentro de cada intervalo é diferente daquela que vimos para o método anterior. Nesse caso, a integral é calculada de acordo com a expressão apresentada a seguir:\n",
        "\n",
        "$$\n",
        "\\sum_{i=1}^n \\alpha_i f(x_i) = h \\sum_{i=1}^n \\frac{f(x_i) + f(x_{i+1})}{2}\n",
        "$$"
      ],
      "metadata": {
        "id": "43btp75ZL4lf"
      }
    },
    {
      "cell_type": "code",
      "source": [
        "import numpy as np\n",
        "from typing import Callable, Tuple\n",
        "\n",
        "def metodo_trapezios(f: Callable[[float], float], I: Tuple[float], n: int) -> float:\n",
        "    a, b = I\n",
        "    x = np.linspace(a, b, n + 1)\n",
        "    x_i = x[:-1]\n",
        "    x_ip1 = x[1:]\n",
        "    h = (b - a) / n\n",
        "    return (h / 2) * np.sum((f(x_i) + f(x_ip1)))"
      ],
      "metadata": {
        "id": "5P3hjL-oJ_r6"
      },
      "execution_count": 8,
      "outputs": []
    },
    {
      "cell_type": "code",
      "source": [
        "f = np.cos\n",
        "I = (1, 2)\n",
        "n = 8\n",
        "metodo_trapezios(f, I, n)"
      ],
      "metadata": {
        "colab": {
          "base_uri": "https://localhost:8080/"
        },
        "id": "WY_nDrEIMe_u",
        "outputId": "3027dcd5-4aff-4276-8cae-e0dcda959f69"
      },
      "execution_count": 12,
      "outputs": [
        {
          "output_type": "execute_result",
          "data": {
            "text/plain": [
              "np.float64(0.06773810333064013)"
            ]
          },
          "metadata": {},
          "execution_count": 12
        }
      ]
    },
    {
      "cell_type": "markdown",
      "source": [
        "# Método de Simpson\n",
        "\n",
        "$$\n",
        "\\sum_{i=1}^n \\alpha_i f(x_i) = h \\sum_{i=1}^n \\frac{f(x_i) + 4f(y) + f(x_{i+1})}{6}, \\text{ onde } y = \\frac{x_i + x_{i+1}}{2}\n",
        "$$"
      ],
      "metadata": {
        "id": "89L4ScTnNJtF"
      }
    },
    {
      "cell_type": "code",
      "source": [
        "import numpy as np\n",
        "from typing import Callable, Tuple\n",
        "\n",
        "def metodo_simpson(f: Callable[[float], float], I: Tuple[float], n: int) -> float:\n",
        "    a, b = I\n",
        "    x = np.linspace(a, b, n + 1)\n",
        "    x_i = x[:-1]\n",
        "    x_ip1 = x[1:]\n",
        "    y = (x_i + x_ip1) / 2\n",
        "    h = (b - a) / n\n",
        "    return (h / 6) * np.sum(f(x_i) + 4 * f(y) + f(x_ip1))"
      ],
      "metadata": {
        "id": "pWi8ug52MkIi"
      },
      "execution_count": 19,
      "outputs": []
    },
    {
      "cell_type": "code",
      "source": [
        "f = np.cos\n",
        "I = (0, 2)\n",
        "n = 4\n",
        "metodo_trapezios(f, I, n)"
      ],
      "metadata": {
        "colab": {
          "base_uri": "https://localhost:8080/"
        },
        "id": "I379r9dzNlBf",
        "outputId": "926657ec-9a28-41cf-a9c2-ba2eecc59b45"
      },
      "execution_count": 21,
      "outputs": [
        {
          "output_type": "execute_result",
          "data": {
            "text/plain": [
              "np.float64(0.8902743255763221)"
            ]
          },
          "metadata": {},
          "execution_count": 21
        }
      ]
    },
    {
      "cell_type": "code",
      "source": [],
      "metadata": {
        "id": "7Kg6p1fyOSR8"
      },
      "execution_count": null,
      "outputs": []
    }
  ]
}