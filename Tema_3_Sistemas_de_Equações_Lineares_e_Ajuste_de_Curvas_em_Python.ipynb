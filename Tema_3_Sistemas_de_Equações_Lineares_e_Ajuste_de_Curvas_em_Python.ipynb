{
  "nbformat": 4,
  "nbformat_minor": 0,
  "metadata": {
    "colab": {
      "provenance": [],
      "authorship_tag": "ABX9TyOG16pYbNe2n1B5NpjBpNFy",
      "include_colab_link": true
    },
    "kernelspec": {
      "name": "python3",
      "display_name": "Python 3"
    },
    "language_info": {
      "name": "python"
    }
  },
  "cells": [
    {
      "cell_type": "markdown",
      "metadata": {
        "id": "view-in-github",
        "colab_type": "text"
      },
      "source": [
        "<a href=\"https://colab.research.google.com/github/estudos-wanderson/Modelagem-Matem-tica/blob/main/Tema_3_Sistemas_de_Equa%C3%A7%C3%B5es_Lineares_e_Ajuste_de_Curvas_em_Python.ipynb\" target=\"_parent\"><img src=\"https://colab.research.google.com/assets/colab-badge.svg\" alt=\"Open In Colab\"/></a>"
      ]
    },
    {
      "cell_type": "markdown",
      "source": [
        "# **Método de eliminação de Gauss**"
      ],
      "metadata": {
        "id": "67iaN8mboUve"
      }
    },
    {
      "cell_type": "markdown",
      "source": [
        "### **Processo de Eliminação de Gauss**\n",
        "\n",
        "Considere um sistema de equações lineares $AX=B$ com $n$ equações e $n$ incógnitas. O objetivo é transformar a matriz de coeficientes $A$ em uma matriz triangular superior $U$ zerando todos os elementos abaixo da diagonal principal.\n",
        "\n",
        "1. Passo 1 (para a coluna 1)\n",
        "    - Escolha o primeiro elemento da primeira linha, $a_{11}$, como pivô.\n",
        "    - Se $a_{11}=0$, troque a primeira linha com uma linha abaixo onde o elemento correspondente na coluna 1 seja não nulo. Se todos os elementos da primeira coluna forem zero, o processo de eliminação para esta coluna não é possível, então prossiga para a próxima coluna.\n",
        "    - Para cada linha $i$ abaixo da primeira (para $i=2, \\dots, n$), calcule o multiplicador $m_{i1} = \\frac{a_{i1}}{a_{11}}$.\n",
        "    - Substitua a linha $L_i$ por $L_i - m_{i1}L_1$. Este processo zera o elemento $a_{i1}$.\n",
        "    - Repita o processo para todas as linhas abaixo da primeira.\n",
        "\n",
        "2. Passo k (para a coluna k)\n",
        "    - Ignore as $k-1$ primeiras linhas e colunas.\n",
        "    - Considere o elemento $a_{kk}$ da matriz transformada como o novo pivô.\n",
        "    - Se $a_{kk}=0$, troque a linha $k$ com uma linha abaixo que tenha um elemento não nulo na coluna $k$.\n",
        "    - Para cada linha $i$ abaixo da linha $k$ (para $i=k+1, \\dots, n$), calcule o multiplicador $m_{ik} = \\frac{a_{ik}}{a_{kk}}$.\n",
        "    - Substitua a linha $L_i$ por $L_i - m_{ik}L_k$.\n",
        "    - Repita este processo até que a matriz $A$ se torne uma matriz triangular superior $U$.\n",
        "\n",
        "O sistema original $AX=B$ é transformado no sistema triangular superior $UX=C$, onde $C$ é a coluna dos termos independentes $B$ transformada. O sistema final terá a forma:\n",
        "\n",
        "$$\n",
        "\\begin{pmatrix}\n",
        "u_{11} & u_{12} & \\cdots & u_{1n} \\\\\n",
        "0 & u_{22} & \\cdots & u_{2n} \\\\\n",
        "\\vdots & \\vdots & \\ddots & \\vdots \\\\\n",
        "0 & 0 & \\cdots & u_{nn}\n",
        "\\end{pmatrix}\n",
        "\\begin{pmatrix}\n",
        "x_1 \\\\\n",
        "x_2 \\\\\n",
        "\\vdots \\\\\n",
        "x_n\n",
        "\\end{pmatrix}\n",
        "=\n",
        "\\begin{pmatrix}\n",
        "c_1 \\\\\n",
        "c_2 \\\\\n",
        "\\vdots \\\\\n",
        "c_n\n",
        "\\end{pmatrix}\n",
        "$$\n",
        "\n",
        "3. Retrossubstituição\n",
        "\n",
        "Após a eliminação de Gauss, o sistema de equações lineares é transformado em um sistema triangular superior $UX=C$, que é mais simples de resolver. O processo de retrossubstituição permite encontrar os valores das incógnitas a partir da última equação, \"subindo\" e substituindo os valores já encontrados.\n",
        "\n",
        "- *Passo 1*: Resolva a última equação para $x_n$.\n",
        "$$x_n = \\frac{c_n}{u_{nn}}$$\n",
        "- *Passo 2*: Substitua o valor de $x_n$ na penúltima equação e resolva para $x_{n-1}$.\n",
        "- *Passo 3*: Continue \"subindo\" e substituindo os valores já encontrados nas equações anteriores, até resolver para $x_1$.\n",
        "\n",
        "A fórmula geral para a retrossubstituição é:\n",
        "\n",
        "Para $i = n-1, n-2, \\dots, 1$:\n",
        "$$x_i = \\frac{1}{u_{ii}} \\left( c_i - \\sum_{j=i+1}^{n} u_{ij}x_j \\right)$$"
      ],
      "metadata": {
        "id": "DLVo4Bwzo8WD"
      }
    },
    {
      "cell_type": "code",
      "source": [
        "import numpy as np\n",
        "\n",
        "def change_rows(A, i, j):\n",
        "    A[[i, j]] = A[[j, i]]\n",
        "\n",
        "def search_pivot_row(A, k):\n",
        "    for i in range(k+1, len(A)):\n",
        "        if A[i, k] != 0:\n",
        "            return i\n",
        "    return None\n",
        "\n",
        "def gauss_elimination(A: np.array, B: np.array):\n",
        "    n = len(B)\n",
        "    if A.shape[0] != n or A.shape[1] != n:\n",
        "        raise ValueError(\"A and B must have the same number of rows\")\n",
        "\n",
        "    if A.dtype != np.float64:\n",
        "        A = A.astype(np.float64)\n",
        "        B = B.astype(np.float64)\n",
        "\n",
        "    for k in range(n - 1):\n",
        "        if A[k, k] == 0:\n",
        "            pivot_row = search_pivot_row(A, k)\n",
        "            if pivot_row is None:\n",
        "                raise ValueError(\"No unique solution exists\")\n",
        "            change_rows(A, k, pivot_row)\n",
        "            change_rows(B, k, pivot_row)\n",
        "\n",
        "        for i in range(k + 1, n):\n",
        "            m = A[i, k] / A[k, k]\n",
        "            A[i, k:] = A[i, k:] - m * A[k, k:]\n",
        "            B[i] = B[i] - m * B[k]\n",
        "\n",
        "    if A[n - 1, n - 1] == 0:\n",
        "        raise ValueError(\"No unique solution exists\")\n",
        "\n",
        "    x = np.zeros(n)\n",
        "    x[n - 1] = B[n - 1] / A[n - 1, n - 1]\n",
        "    for i in range(n - 2, -1, -1):\n",
        "        sum = 0\n",
        "        for j in range(i + 1, n):\n",
        "            sum += A[i, j] * x[j]\n",
        "        x[i] = 1 / A[i, i] * (B[i] - sum)\n",
        "\n",
        "    return x"
      ],
      "metadata": {
        "id": "ym1EXJtIoZWf"
      },
      "execution_count": 10,
      "outputs": []
    },
    {
      "cell_type": "markdown",
      "source": [
        "Exemplo"
      ],
      "metadata": {
        "id": "5obbGrTkw4Oc"
      }
    },
    {
      "cell_type": "code",
      "source": [
        "A = np.array([[1, 1, 1], [2,1,1], [1,2,3]])\n",
        "B = np.array([4,6,7])\n",
        "\n",
        "sol = gauss_elimination(A, B)\n",
        "print(sol)"
      ],
      "metadata": {
        "colab": {
          "base_uri": "https://localhost:8080/"
        },
        "id": "cVpo_afSs_IA",
        "outputId": "2db4be68-94ce-450c-d9b9-469951f25276"
      },
      "execution_count": 11,
      "outputs": [
        {
          "output_type": "stream",
          "name": "stdout",
          "text": [
            "[2. 1. 1.]\n"
          ]
        }
      ]
    },
    {
      "cell_type": "markdown",
      "source": [
        "### **Processo de Eliminação de Gauss-Jordan**\n",
        "\n",
        "O método de Eliminação de Gauss-Jordan é uma variação do método de Gauss que transforma a matriz de coeficientes $A$ em uma **matriz diagonal identidade** $I$, em vez de uma matriz triangular superior $U$. Isso elimina a necessidade da retrossubstituição, pois a solução do sistema de equações é obtida diretamente.\n",
        "\n",
        "1.  **Passo 1 (para a coluna 1)**\n",
        "    * Escolha o primeiro elemento da primeira linha, $a_{11}$, como pivô.\n",
        "    * Se $a_{11}=0$, troque a primeira linha com uma linha abaixo onde o elemento correspondente na coluna 1 seja não nulo. Se todos os elementos da primeira coluna forem zero, o processo de eliminação não é possível, então prossiga para a próxima coluna.\n",
        "    * Para normalizar o pivô, divida a primeira linha por $a_{11}$, tornando o novo pivô igual a 1.\n",
        "    * Para cada linha $i$ (para $i=2, \\dots, n$), calcule o multiplicador $m_{i1} = a_{i1}$.\n",
        "    * Substitua a linha $L_i$ por $L_i - m_{i1}L_1$. Este processo zera todos os elementos abaixo do pivô na coluna 1.\n",
        "\n",
        "2.  **Passo k (para a coluna k)**\n",
        "    * Considere o elemento $a_{kk}$ da matriz transformada como o novo pivô.\n",
        "    * Se $a_{kk}=0$, troque a linha $k$ com uma linha abaixo que tenha um elemento não nulo na coluna $k$.\n",
        "    * Para normalizar o pivô, divida a linha $k$ por $a_{kk}$, tornando o novo pivô igual a 1.\n",
        "    * Para cada linha $i$ (para $i=1, \\dots, n$ e $i \\ne k$), calcule o multiplicador $m_{ik} = a_{ik}$.\n",
        "    * Substitua a linha $L_i$ por $L_i - m_{ik}L_k$. Este processo zera todos os elementos acima e abaixo do pivô na coluna $k$.\n",
        "    * Repita este processo até que a matriz $A$ se torne a matriz identidade $I$.\n",
        "\n",
        "O sistema original $AX=B$ é transformado no sistema diagonal $IX=D$, onde $D$ é a coluna dos termos independentes $B$ transformada. O sistema final terá a forma:\n",
        "\n",
        "$$\n",
        "\\begin{pmatrix}\n",
        "1 & 0 & \\cdots & 0 \\\\\n",
        "0 & 1 & \\cdots & 0 \\\\\n",
        "\\vdots & \\vdots & \\ddots & \\vdots \\\\\n",
        "0 & 0 & \\cdots & 1\n",
        "\\end{pmatrix}\n",
        "\\begin{pmatrix}\n",
        "x_1 \\\\\n",
        "x_2 \\\\\n",
        "\\vdots \\\\\n",
        "x_n\n",
        "\\end{pmatrix}\n",
        "=\n",
        "\\begin{pmatrix}\n",
        "d_1 \\\\\n",
        "d_2 \\\\\n",
        "\\vdots \\\\\n",
        "d_n\n",
        "\\end{pmatrix}\n",
        "$$\n",
        "\n",
        "A solução é obtida diretamente, pois $x_i = d_i$ para $i=1, 2, \\dots, n$."
      ],
      "metadata": {
        "id": "k4H3mwonrtwq"
      }
    },
    {
      "cell_type": "code",
      "source": [
        "import numpy as np\n",
        "\n",
        "def change_rows(A, i, j):\n",
        "    A[[i, j]] = A[[j, i]]\n",
        "\n",
        "def search_pivot_row(A, k):\n",
        "    for i in range(k + 1, len(A)):\n",
        "        if A[i, k] != 0:\n",
        "            return i\n",
        "    return None\n",
        "\n",
        "def gauss_jordan_elimination(A: np.array, B: np.array):\n",
        "    n = len(B)\n",
        "    if A.shape[0] != n or A.shape[1] != n:\n",
        "        raise ValueError(\"A and B must have the same number of rows\")\n",
        "\n",
        "    if A.dtype != np.float64:\n",
        "        A = A.astype(np.float64)\n",
        "        B = B.astype(np.float64)\n",
        "\n",
        "    for k in range(n):\n",
        "        # Handle zero pivot by searching for a non-zero row\n",
        "        if A[k, k] == 0:\n",
        "            pivot_row = search_pivot_row(A, k)\n",
        "            if pivot_row is None:\n",
        "                raise ValueError(\"No unique solution exists\")\n",
        "            change_rows(A, k, pivot_row)\n",
        "            change_rows(B, k, pivot_row)\n",
        "\n",
        "        # Normalize the pivot row\n",
        "        pivot_val = A[k, k]\n",
        "        A[k] = A[k] / pivot_val\n",
        "        B[k] = B[k] / pivot_val\n",
        "\n",
        "        # Eliminate elements in all other rows\n",
        "        for i in range(n):\n",
        "            if i != k:\n",
        "                multiplier = A[i, k]\n",
        "                A[i] = A[i] - multiplier * A[k]\n",
        "                B[i] = B[i] - multiplier * B[k]\n",
        "\n",
        "    # The solution is the transformed B vector\n",
        "    x = B\n",
        "\n",
        "    return x"
      ],
      "metadata": {
        "id": "cEXzdczPrvD3"
      },
      "execution_count": 8,
      "outputs": []
    },
    {
      "cell_type": "markdown",
      "source": [
        "Exemplo"
      ],
      "metadata": {
        "id": "9wtWl2-tI-rK"
      }
    },
    {
      "cell_type": "code",
      "source": [
        "A = np.array([[1,  1, 1], [2, 1, 1], [1, 2, 3]])\n",
        "B = np.array([4, 6, 7])\n",
        "\n",
        "sol = gauss_jordan_elimination(A, B)\n",
        "print(sol)"
      ],
      "metadata": {
        "colab": {
          "base_uri": "https://localhost:8080/"
        },
        "id": "bQD9Ph9TID4B",
        "outputId": "409d8196-69f2-454f-8196-3d71b0724feb"
      },
      "execution_count": 12,
      "outputs": [
        {
          "output_type": "stream",
          "name": "stdout",
          "text": [
            "[2. 1. 1.]\n"
          ]
        }
      ]
    },
    {
      "cell_type": "markdown",
      "source": [
        "# **Decomposição LU**\n",
        "\n",
        "Considere o sistema $Ax=b$. Podemos reescrevê-lo como $LUx=b$. Para começar, definimos $Ux=y$. Com isso, o sistema se torna $Ly=b$. Como $L$ é triangular inferior, resolver $Ly=b$ para encontrar $y$ é fácil usando substituição direta.\n",
        "\n",
        "Com o vetor $y$ definido, resolvemos $Ux=y$ para encontrar $x$. Como $U$ é triangular superior, a solução é simples por meio de substituição regressiva. Além disso, o determinante de $A$ é o produto dos determinantes de $L$ e $U$. Se $L$ tiver 1s na diagonal principal, $\\det(L)=1$ e $\\det(A)=\\det(U)$, que é o produto dos elementos da diagonal de $U$.\n",
        "\n",
        "## **Condições para a decomposição LU**\n",
        "\n",
        "Para que uma matriz $A$ admita uma decomposição $LU$ única, com a condição de que a matriz $L$ tenha todos os elementos da sua diagonal principal iguais a 1, é necessário que todos os menores principais de $A$ sejam diferentes de zero. O que é um menor principal?\n",
        "\n",
        "Se $A$ é uma matriz $n \\times n$:\n",
        "\n",
        "- $A_1$ é a submatriz $1 \\times 1$ no canto superior esquerdo de $A$.\n",
        "- $A_2$ é a submatriz $2 \\times 2$ no canto superior esquerdo de $A$.\n",
        "\n",
        "    $\\vdots$\n",
        "\n",
        "- $A_k$ é a submatriz $k \\times k$ no canto superior esquerdo de $A$.\n",
        "\n",
        "\n",
        "Com isso, se $\\det(A_k) \\neq 0$ para $k=1,2,\\dots,n-1$, existe uma única matriz triangular inferior $L$ com $l_{ii}=1$ e uma única matriz triangular superior $U$, tal que:\n",
        "\n",
        "$$A=LU$$\n",
        "\n",
        "# *Fórmula Geral para o Cálculo de L e U*\n",
        "\n",
        "Para uma matriz $A$ de ordem $n \\times n$, os elementos $u_{ij}$ de $U$ e $l_{ij}$ de $L$ são calculados da seguinte forma:\n",
        "\n",
        "## 1. Para os elementos de U\n",
        "\n",
        "Para $i \\leq j$:\n",
        "$$u_{ij} = a_{ij} - \\sum_{k=1}^{i-1} l_{ik} \\cdot u_{kj}$$\n",
        "\n",
        "Para a primeira linha de $U$ ($i=1$), o somatório é vazio, então:\n",
        "$$u_{1j} = a_{1j} \\quad \\text{para} \\quad j=1, \\dots, n$$\n",
        "\n",
        "## 2. Para os elementos de L\n",
        "\n",
        "Para $i > j$, com $l_{jj}=1$:\n",
        "$$l_{ij} = \\frac{1}{u_{jj}} \\left( a_{ij} - \\sum_{k=1}^{j-1} l_{ik} \\cdot u_{kj} \\right)$$\n",
        "\n",
        "Para a primeira coluna de $L$ ($j=1$), o somatório é vazio, então:\n",
        "$$l_{i1} = \\frac{1}{u_{11}} (a_{i1}) \\quad \\text{para} \\quad i=2, \\dots, n$$"
      ],
      "metadata": {
        "id": "_liUCNPSM79_"
      }
    },
    {
      "cell_type": "code",
      "source": [
        "import numpy as np\n",
        "\n",
        "def lu_decomposition(A: np.array):\n",
        "    n = len(A)\n",
        "    if A.shape[0] != n or A.shape[1] != n:\n",
        "        raise ValueError(\"A must be a square matrix\")\n",
        "\n",
        "    if A.dtype != np.float64:\n",
        "        A = A.astype(np.float64)\n",
        "\n",
        "    L = np.identity(n, dtype=np.float64)\n",
        "    U = np.zeros([n, n], dtype=np.float64)\n",
        "\n",
        "    for i in range(n):\n",
        "        # Calculate U[i, j]\n",
        "        for j in range(i, n):\n",
        "            sum_val = 0.0\n",
        "            for k in range(i):\n",
        "                sum_val += L[i, k] * U[k, j]\n",
        "            U[i, j] = A[i, j] - sum_val\n",
        "\n",
        "        # Calculate L[j, i]\n",
        "        for j in range(i + 1, n):\n",
        "            sum_val = 0.0\n",
        "            for k in range(i):\n",
        "                sum_val += L[j, k] * U[k, i]\n",
        "            L[j, i] = (A[j, i] - sum_val) / U[i, i]\n",
        "\n",
        "    return L, U"
      ],
      "metadata": {
        "id": "5UfnMh2iIdBL"
      },
      "execution_count": 18,
      "outputs": []
    },
    {
      "cell_type": "code",
      "source": [
        "def solve_lu(A: np.array, B: np.array):\n",
        "    L, U = lu_decomposition(A)\n",
        "    y = np.linalg.solve(L, B)\n",
        "    x = np.linalg.solve(U, y)\n",
        "    return x"
      ],
      "metadata": {
        "id": "FT1TZ5LrRhgG"
      },
      "execution_count": 20,
      "outputs": []
    },
    {
      "cell_type": "code",
      "source": [
        "A = np.array([[1, 2, 3], [4, 7, 6], [5, 8, 6]])\n",
        "B = np.array([1, 2, 3])\n",
        "\n",
        "sol = solve_lu(A, B)\n",
        "print(sol)"
      ],
      "metadata": {
        "colab": {
          "base_uri": "https://localhost:8080/"
        },
        "id": "9upUvHggTX34",
        "outputId": "e5cd1273-b4e0-4b83-d460-8eccd9a9c45e"
      },
      "execution_count": 22,
      "outputs": [
        {
          "output_type": "stream",
          "name": "stdout",
          "text": [
            "[ 3.         -2.          0.66666667]\n"
          ]
        }
      ]
    },
    {
      "cell_type": "code",
      "source": [],
      "metadata": {
        "id": "umWuS7ZmTfhP"
      },
      "execution_count": null,
      "outputs": []
    }
  ]
}