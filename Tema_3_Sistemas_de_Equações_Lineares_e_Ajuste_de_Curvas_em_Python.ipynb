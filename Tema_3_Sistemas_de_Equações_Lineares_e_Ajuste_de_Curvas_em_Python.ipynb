{
  "nbformat": 4,
  "nbformat_minor": 0,
  "metadata": {
    "colab": {
      "provenance": [],
      "authorship_tag": "ABX9TyPE98y2tYXkZRbI9FcCjj1+",
      "include_colab_link": true
    },
    "kernelspec": {
      "name": "python3",
      "display_name": "Python 3"
    },
    "language_info": {
      "name": "python"
    }
  },
  "cells": [
    {
      "cell_type": "markdown",
      "metadata": {
        "id": "view-in-github",
        "colab_type": "text"
      },
      "source": [
        "<a href=\"https://colab.research.google.com/github/estudos-wanderson/Modelagem-Matem-tica/blob/main/Tema_3_Sistemas_de_Equa%C3%A7%C3%B5es_Lineares_e_Ajuste_de_Curvas_em_Python.ipynb\" target=\"_parent\"><img src=\"https://colab.research.google.com/assets/colab-badge.svg\" alt=\"Open In Colab\"/></a>"
      ]
    },
    {
      "cell_type": "markdown",
      "source": [
        "# **Método de eliminação de Gauss**"
      ],
      "metadata": {
        "id": "67iaN8mboUve"
      }
    },
    {
      "cell_type": "markdown",
      "source": [
        "### **Processo de Eliminação de Gauss**\n",
        "\n",
        "Considere um sistema de equações lineares $AX=B$ com $n$ equações e $n$ incógnitas. O objetivo é transformar a matriz de coeficientes $A$ em uma matriz triangular superior $U$ zerando todos os elementos abaixo da diagonal principal.\n",
        "\n",
        "1. Passo 1 (para a coluna 1)\n",
        "    - Escolha o primeiro elemento da primeira linha, $a_{11}$, como pivô.\n",
        "    - Se $a_{11}=0$, troque a primeira linha com uma linha abaixo onde o elemento correspondente na coluna 1 seja não nulo. Se todos os elementos da primeira coluna forem zero, o processo de eliminação para esta coluna não é possível, então prossiga para a próxima coluna.\n",
        "    - Para cada linha $i$ abaixo da primeira (para $i=2, \\dots, n$), calcule o multiplicador $m_{i1} = \\frac{a_{i1}}{a_{11}}$.\n",
        "    - Substitua a linha $L_i$ por $L_i - m_{i1}L_1$. Este processo zera o elemento $a_{i1}$.\n",
        "    - Repita o processo para todas as linhas abaixo da primeira.\n",
        "\n",
        "2. Passo k (para a coluna k)\n",
        "    - Ignore as $k-1$ primeiras linhas e colunas.\n",
        "    - Considere o elemento $a_{kk}$ da matriz transformada como o novo pivô.\n",
        "    - Se $a_{kk}=0$, troque a linha $k$ com uma linha abaixo que tenha um elemento não nulo na coluna $k$.\n",
        "    - Para cada linha $i$ abaixo da linha $k$ (para $i=k+1, \\dots, n$), calcule o multiplicador $m_{ik} = \\frac{a_{ik}}{a_{kk}}$.\n",
        "    - Substitua a linha $L_i$ por $L_i - m_{ik}L_k$.\n",
        "    - Repita este processo até que a matriz $A$ se torne uma matriz triangular superior $U$.\n",
        "\n",
        "O sistema original $AX=B$ é transformado no sistema triangular superior $UX=C$, onde $C$ é a coluna dos termos independentes $B$ transformada. O sistema final terá a forma:\n",
        "\n",
        "$$\n",
        "\\begin{pmatrix}\n",
        "u_{11} & u_{12} & \\cdots & u_{1n} \\\\\n",
        "0 & u_{22} & \\cdots & u_{2n} \\\\\n",
        "\\vdots & \\vdots & \\ddots & \\vdots \\\\\n",
        "0 & 0 & \\cdots & u_{nn}\n",
        "\\end{pmatrix}\n",
        "\\begin{pmatrix}\n",
        "x_1 \\\\\n",
        "x_2 \\\\\n",
        "\\vdots \\\\\n",
        "x_n\n",
        "\\end{pmatrix}\n",
        "=\n",
        "\\begin{pmatrix}\n",
        "c_1 \\\\\n",
        "c_2 \\\\\n",
        "\\vdots \\\\\n",
        "c_n\n",
        "\\end{pmatrix}\n",
        "$$\n",
        "\n",
        "3. Retrossubstituição\n",
        "\n",
        "Após a eliminação de Gauss, o sistema de equações lineares é transformado em um sistema triangular superior $UX=C$, que é mais simples de resolver. O processo de retrossubstituição permite encontrar os valores das incógnitas a partir da última equação, \"subindo\" e substituindo os valores já encontrados.\n",
        "\n",
        "- *Passo 1*: Resolva a última equação para $x_n$.\n",
        "$$x_n = \\frac{c_n}{u_{nn}}$$\n",
        "- *Passo 2*: Substitua o valor de $x_n$ na penúltima equação e resolva para $x_{n-1}$.\n",
        "- *Passo 3*: Continue \"subindo\" e substituindo os valores já encontrados nas equações anteriores, até resolver para $x_1$.\n",
        "\n",
        "A fórmula geral para a retrossubstituição é:\n",
        "\n",
        "Para $i = n-1, n-2, \\dots, 1$:\n",
        "$$x_i = \\frac{1}{u_{ii}} \\left( c_i - \\sum_{j=i+1}^{n} u_{ij}x_j \\right)$$"
      ],
      "metadata": {
        "id": "DLVo4Bwzo8WD"
      }
    },
    {
      "cell_type": "code",
      "source": [],
      "metadata": {
        "id": "ym1EXJtIoZWf"
      },
      "execution_count": 1,
      "outputs": []
    },
    {
      "cell_type": "markdown",
      "source": [
        "### **Processo de Eliminação de Gauss-Jordan**\n",
        "\n",
        "O método de Eliminação de Gauss-Jordan é uma variação do método de Gauss que transforma a matriz de coeficientes $A$ em uma **matriz diagonal identidade** $I$, em vez de uma matriz triangular superior $U$. Isso elimina a necessidade da retrossubstituição, pois a solução do sistema de equações é obtida diretamente.\n",
        "\n",
        "1.  **Passo 1 (para a coluna 1)**\n",
        "    * Escolha o primeiro elemento da primeira linha, $a_{11}$, como pivô.\n",
        "    * Se $a_{11}=0$, troque a primeira linha com uma linha abaixo onde o elemento correspondente na coluna 1 seja não nulo. Se todos os elementos da primeira coluna forem zero, o processo de eliminação não é possível, então prossiga para a próxima coluna.\n",
        "    * Para normalizar o pivô, divida a primeira linha por $a_{11}$, tornando o novo pivô igual a 1.\n",
        "    * Para cada linha $i$ (para $i=2, \\dots, n$), calcule o multiplicador $m_{i1} = a_{i1}$.\n",
        "    * Substitua a linha $L_i$ por $L_i - m_{i1}L_1$. Este processo zera todos os elementos abaixo do pivô na coluna 1.\n",
        "\n",
        "2.  **Passo k (para a coluna k)**\n",
        "    * Considere o elemento $a_{kk}$ da matriz transformada como o novo pivô.\n",
        "    * Se $a_{kk}=0$, troque a linha $k$ com uma linha abaixo que tenha um elemento não nulo na coluna $k$.\n",
        "    * Para normalizar o pivô, divida a linha $k$ por $a_{kk}$, tornando o novo pivô igual a 1.\n",
        "    * Para cada linha $i$ (para $i=1, \\dots, n$ e $i \\ne k$), calcule o multiplicador $m_{ik} = a_{ik}$.\n",
        "    * Substitua a linha $L_i$ por $L_i - m_{ik}L_k$. Este processo zera todos os elementos acima e abaixo do pivô na coluna $k$.\n",
        "    * Repita este processo até que a matriz $A$ se torne a matriz identidade $I$.\n",
        "\n",
        "O sistema original $AX=B$ é transformado no sistema diagonal $IX=D$, onde $D$ é a coluna dos termos independentes $B$ transformada. O sistema final terá a forma:\n",
        "\n",
        "$$\n",
        "\\begin{pmatrix}\n",
        "1 & 0 & \\cdots & 0 \\\\\n",
        "0 & 1 & \\cdots & 0 \\\\\n",
        "\\vdots & \\vdots & \\ddots & \\vdots \\\\\n",
        "0 & 0 & \\cdots & 1\n",
        "\\end{pmatrix}\n",
        "\\begin{pmatrix}\n",
        "x_1 \\\\\n",
        "x_2 \\\\\n",
        "\\vdots \\\\\n",
        "x_n\n",
        "\\end{pmatrix}\n",
        "=\n",
        "\\begin{pmatrix}\n",
        "d_1 \\\\\n",
        "d_2 \\\\\n",
        "\\vdots \\\\\n",
        "d_n\n",
        "\\end{pmatrix}\n",
        "$$\n",
        "\n",
        "A solução é obtida diretamente, pois $x_i = d_i$ para $i=1, 2, \\dots, n$."
      ],
      "metadata": {
        "id": "k4H3mwonrtwq"
      }
    },
    {
      "cell_type": "code",
      "source": [],
      "metadata": {
        "id": "cEXzdczPrvD3"
      },
      "execution_count": null,
      "outputs": []
    }
  ]
}