{
  "nbformat": 4,
  "nbformat_minor": 0,
  "metadata": {
    "colab": {
      "provenance": [],
      "authorship_tag": "ABX9TyM5xoTn/tVfXeW3qzPaHJP7",
      "include_colab_link": true
    },
    "kernelspec": {
      "name": "python3",
      "display_name": "Python 3"
    },
    "language_info": {
      "name": "python"
    }
  },
  "cells": [
    {
      "cell_type": "markdown",
      "metadata": {
        "id": "view-in-github",
        "colab_type": "text"
      },
      "source": [
        "<a href=\"https://colab.research.google.com/github/estudos-wanderson/Modelagem-Matem-tica/blob/main/Tema_5_Equa%C3%A7%C3%B5es_Diferenciais_Ordin%C3%A1rias_de_1a_Ordem_em_Python.ipynb\" target=\"_parent\"><img src=\"https://colab.research.google.com/assets/colab-badge.svg\" alt=\"Open In Colab\"/></a>"
      ]
    },
    {
      "cell_type": "markdown",
      "source": [
        "# Fundamentos de equações diferenciais ordinárias de 1° ordem\n",
        "\n",
        "## 1. Equação diferencial ordinária (EDO) de 1ª ordem\n",
        "---\n",
        "\n",
        "É uma equação que envolve uma função incógnita de uma única variável independente e uma ou mais de suas derivadas em relação a essa variável.\n",
        "\n",
        "O termo “ordinária” distingue essas equações das equações diferenciais parciais (EDPs), que envolvem funções de múltiplas variáveis e suas derivadas parciais, que não vamos abordar.\n",
        "\n",
        "A ordem de uma EDO é determinada pela derivada de maior ordem presente na equação. Veja!\n",
        "$$F\\left(x,y,y',...,y^{(n)}\\right)=0$$\n",
        "que equivale a\n",
        "$$F\\left(x,y,\\frac{dy}{dx},...,\\frac{d^ny}{dx^n}\\right)=0$$\n",
        "\n",
        "Uma EDO de 1ª ordem envolve, portanto, apenas a primeira derivada da função incógnita. Se $y(x)$ é a função incógnita de variável dependente, e $x$ a variável independente, uma EDO de 1ª ordem pode ser expressa genericamente como:\n",
        "$$F\\left(x,y,\\frac{dy}{dx}\\right)=0$$\n",
        "\n",
        "Em geral, podemos isolar a derivada $\\frac{dy}{dx}$, obtendo a forma normal ou explícita:\n",
        "$$\\frac{dy}{dx}=f(x,y)$$\n",
        "que é equivalente a\n",
        "$$y' = f(x,y)$$\n",
        "\n",
        "Em que $f(x,y)$ é uma função conhecida de $x$ e $y$. Nosso objetivo ao resolver uma EDO é encontrar a função $y(x)$ que satisfaz essa equação.\n",
        "\n",
        "Exemplo\n",
        "---\n",
        "\n",
        "A função $y(x)=e^{-x}$ é a solução da equação diferencial linear de primeira ordem. Veja!\n",
        "$$y' + y = 0$$\n",
        "\n",
        "No intervalo $I=(-\\infty,+\\infty)$. Note que $y' = -y$ em que $f(x,y)=-y$. Além disso, se $y(x)=e^{-x}$, a derivada $y'(x)=-e^{-x}$. Substituindo na equação diferencial, temos:\n",
        "$$y'(x) + y(x) = -e^{-x} + e^{-x} = 0$$\n",
        "\n",
        "Logo, a equação diferencial é satisfeita para todo $x \\in R$.\n",
        "\n",
        "Soluções analíticas\n",
        "---\n",
        "\n",
        "Em alguns casos, especialmente quando a função $f(x,y)$ depende apenas de $x$, ou seja, $f(x,y)=g(x)$, a EDO de 1ª ordem é simplificada para:\n",
        "$$\\frac{dy}{dx}=g(x)$$\n",
        "\n",
        "Para encontrar $y(x)$, basta integrar ambos os lados da equação em relação a $x$:\n",
        "$$\\int \\frac{dy}{dx}dx = \\int g(x)dx$$\n",
        "\n",
        "Isso resulta em:\n",
        "$$y(x) = G(x) + C$$\n",
        "\n",
        "Em que $G(x)$ é uma primitiva de $g(x)$, ou seja, $\\frac{dG}{dx}=g(x)$ e $C$ é a constante de integração. Essa solução $y(x)=G(x)+C$ é chamada de solução geral da EDO, pois representa uma família de curvas, cada uma correspondente a um valor diferente de $C$.\n",
        "\n",
        "## 2. Problemas de valor inicial (PVI)\n",
        "\n",
        "---\n",
        "\n",
        "A solução geral de uma EDO de 1ª ordem contém uma **constante arbitrária** $C$. Para determinar um valor específico para $C$ e, assim, encontrar uma **solução particular**, precisamos de uma condição adicional.\n",
        "\n",
        "Essa condição, chamada de **condição inicial**, especifica o valor da função $y(x)$ em um ponto $x_0$, ou seja, $y(x_0)=y_0$.\n",
        "\n",
        "Uma EDO de 1ª ordem, juntamente com uma condição inicial, forma um **problema de valor inicial (PVI)**. Matematicamente, um PVI de 1ª ordem é expresso como:\n",
        "$$\\frac{dy}{dx} = f(x,y), y(x_0)=y_0$$\n",
        "\n",
        "---\n",
        "\n",
        "### Exemplo 3\n",
        "\n",
        "Vamos resolver o problema de valor inicial (PVI):\n",
        "$$\\frac{dy}{dx} = 4x-1, y(1)=3$$\n",
        "\n",
        "Vamos ver a solução!\n",
        "\n",
        "Primeiro, encontramos a **solução geral**.\n",
        "$$y(x) = \\int(4x-1)dx = 4 \\cdot \\frac{x^2}{2} - x + C = 2x^2 - x + C$$\n",
        "\n",
        "Agora, aplicamos a condição inicial $y(1)=3$:\n",
        "$$3 = 2(1)^2 - (1) + C \\implies 3 = 2-1+C \\implies C=2$$\n",
        "\n",
        "Assim, a solução particular do PVI é:\n",
        "$$y(x) = 2x^2-x+2$$\n",
        "\n",
        "### Exemplo 4\n",
        "\n",
        "Resolva o PVI:\n",
        "$$\\frac{dy}{dx} = \\frac{1}{x}, y(e)=2 \\quad (\\text{para } x>0)$$\n",
        "\n",
        "Vejamos a solução!\n",
        "\n",
        "A **solução geral** é:\n",
        "$$y(x) = \\int \\frac{1}{x}dx = \\ln|x|+C$$\n",
        "\n",
        "Como estamos considerando $x>0$, podemos simplificar para:\n",
        "$$y(x) = \\ln(x)+C$$\n",
        "\n",
        "Agora, aplicamos a condição inicial $y(e)=2$:\n",
        "$$2 = \\ln(e)+C \\implies 2 = 1+C \\implies C=1$$\n",
        "\n",
        "Portanto, a solução particular é:\n",
        "$$y(x) = \\ln(x)+1$$\n",
        "\n",
        "---\n",
        "\n",
        "Neste tópico, exploramos os conceitos de EDOs de 1ª ordem e problemas de valor inicial (PVIs), destacando casos em que a solução analítica pode ser obtida por meio de integração direta. Observamos que a solução geral dessas equações inclui uma constante de integração, que é determinada a partir da condição inicial, resultando em uma solução particular. Entretanto, como veremos a seguir, muitos problemas práticos geram EDOs que não podem ser resolvidas de forma tão direta, tornando necessário o uso de **métodos numéricos** para obter soluções aproximadas."
      ],
      "metadata": {
        "id": "bq5I_D_-XZ4Q"
      }
    },
    {
      "cell_type": "markdown",
      "source": [
        "# Método de Euler\n",
        "\n",
        "Considere o seguinte problema de valor inicial (PVI) de 1ª ordem:\n",
        "$$\\frac{dy}{dx} = f(x,y)$$\n",
        "\n",
        "Com condição inicial:\n",
        "$$y(x_0)=y_0$$\n",
        "\n",
        "O que significa essa equação?\n",
        "\n",
        "$\\frac{dy}{dx}$ representa a inclinação da reta tangente à curva da solução $y(x)$ no ponto $(x,y)$.\n",
        "\n",
        "O método de Euler explora essa ideia de inclinação para construir, passo a passo, uma aproximação da curva solução.\n",
        "\n",
        "Seu funcionamento consiste em:\n",
        "\n",
        "* Se conhecemos $y_i=y(x_i)$, então a inclinação da reta tangente nesse ponto é $f(x_i,y_i)$.\n",
        "\n",
        "* Para valores próximos de $x_i$, podemos aproximar a função $y(x)$ pela reta tangente: $y(x) \\approx y_i + (x - x_i)f(x_i,y_i)$.\n",
        "\n",
        "* Para avançar até $x_{i+1} = x_i + h$ (onde $h$ é o passo): $y_{i+1} = y_i + h \\cdot f(x_i,y_i)$.\n",
        "\n",
        "Assim, iteramos esse processo, sempre usando o último ponto como base.\n",
        "\n",
        "---\n",
        "### Passo a passo do método de Euler\n",
        "\n",
        "Agora que você já compreende os fundamentos, veja o passo a passo para aplicar o método de Euler:\n",
        "\n",
        "1.  **Defina o PVI**:\n",
        "    Especifique a EDO $\\frac{dy}{dx} = f(x,y)$ e a condição inicial $y(x_0)=y_0$.\n",
        "\n",
        "2.  **Escolha o ponto final**:\n",
        "    Determine até onde quer calcular a solução, ou seja, $x_{\\text{final}}$.\n",
        "\n",
        "3.  **Escolha o passo $h$**:\n",
        "    $h = \\frac{x_{\\text{final}} - x_0}{N}$ ou escolha $N$ e calcule $h$.\n",
        "\n",
        "4.  **Inicialização**:\n",
        "    $i=0$\n",
        "    $x_0, y_0$\n",
        "\n",
        "5.  **Iteração**:\n",
        "    Para cada passo $i=0,1,\\dots,N-1$:\n",
        "    * Calcule a inclinação: $m_i = f(x_i, y_i)$\n",
        "    * Atualize $y$: $y_{i+1} = y_i + h \\cdot m_i$\n",
        "    * Atualize $x$: $x_{i+1} = x_i + h$\n",
        "\n",
        "6.  **Resultado**\n",
        "    Após $N$ passos, $y_N$ será a aproximação de $y(x_{\\text{final}})$."
      ],
      "metadata": {
        "id": "o6r0XbA9ZDvC"
      }
    },
    {
      "cell_type": "code",
      "execution_count": 3,
      "metadata": {
        "id": "O5ElyckyWVF1"
      },
      "outputs": [],
      "source": [
        "import numpy as np\n",
        "from typing import Callable, Tuple\n",
        "\n",
        "def euler(f: Callable[[float, float], float], I: Tuple[float], xf: float, n: int) -> float:\n",
        "    xo, yo = I\n",
        "    h = (xf-xo) / n\n",
        "    x = np.zeros(n+1)\n",
        "    x[0] = xo\n",
        "    y = np.zeros(n+1)\n",
        "    y[0] = yo\n",
        "    for i in range(n):\n",
        "        y[i+1] = y[i] + h * f(x[i], y[i])\n",
        "        x[i+1] = x[i] + h\n",
        "\n",
        "    return x, y"
      ]
    },
    {
      "cell_type": "code",
      "source": [
        "f = lambda t, v: 5 - 0.2 * v\n",
        "I = (0, 50)\n",
        "xf = 10\n",
        "n = 500\n",
        "x, y = euler(f, I, xf, n)"
      ],
      "metadata": {
        "id": "OfzBnlBmcJDe"
      },
      "execution_count": 9,
      "outputs": []
    },
    {
      "cell_type": "code",
      "source": [
        "import matplotlib.pyplot as plt\n",
        "\n",
        "def plotar_grafico(x_array: np.ndarray, y_array: np.ndarray):\n",
        "    plt.figure(figsize=(10, 6))\n",
        "    plt.plot(x_array, y_array, label='Dados do Gráfico')\n",
        "\n",
        "    plt.title('Gráfico', fontsize=16)\n",
        "    plt.xlabel('Eixo X', fontsize=12)\n",
        "    plt.ylabel('Eixo Y', fontsize=12)\n",
        "\n",
        "    plt.grid(True)\n",
        "    plt.legend()\n",
        "    plt.show()\n",
        "\n",
        "plotar_grafico(x, y)"
      ],
      "metadata": {
        "colab": {
          "base_uri": "https://localhost:8080/",
          "height": 570
        },
        "id": "X9UYwOd6cesH",
        "outputId": "2fbe4ac0-4036-4072-ca21-32290d8844a3"
      },
      "execution_count": 11,
      "outputs": [
        {
          "output_type": "display_data",
          "data": {
            "text/plain": [
              "<Figure size 1000x600 with 1 Axes>"
            ],
            "image/png": "[encoded data removed]"
          },
          "metadata": {}
        }
      ]
    },
    {
      "cell_type": "code",
      "source": [],
      "metadata": {
        "id": "C3NWwMcRd1Dk"
      },
      "execution_count": null,
      "outputs": []
    }
  ]
}