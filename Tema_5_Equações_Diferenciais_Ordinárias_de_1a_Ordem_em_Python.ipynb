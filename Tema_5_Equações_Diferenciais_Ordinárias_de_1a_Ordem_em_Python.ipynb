{
  "nbformat": 4,
  "nbformat_minor": 0,
  "metadata": {
    "colab": {
      "provenance": [],
      "authorship_tag": "ABX9TyPVxrPCYAdGZnufryPuzYmF",
      "include_colab_link": true
    },
    "kernelspec": {
      "name": "python3",
      "display_name": "Python 3"
    },
    "language_info": {
      "name": "python"
    }
  },
  "cells": [
    {
      "cell_type": "markdown",
      "metadata": {
        "id": "view-in-github",
        "colab_type": "text"
      },
      "source": [
        "<a href=\"https://colab.research.google.com/github/estudos-wanderson/Modelagem-Matem-tica/blob/main/Tema_5_Equa%C3%A7%C3%B5es_Diferenciais_Ordin%C3%A1rias_de_1a_Ordem_em_Python.ipynb\" target=\"_parent\"><img src=\"https://colab.research.google.com/assets/colab-badge.svg\" alt=\"Open In Colab\"/></a>"
      ]
    },
    {
      "cell_type": "code",
      "execution_count": null,
      "metadata": {
        "id": "O5ElyckyWVF1"
      },
      "outputs": [],
      "source": []
    }
  ]
}