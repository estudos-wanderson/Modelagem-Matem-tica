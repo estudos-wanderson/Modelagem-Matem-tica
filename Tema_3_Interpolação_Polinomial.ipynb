{
  "nbformat": 4,
  "nbformat_minor": 0,
  "metadata": {
    "colab": {
      "provenance": [],
      "authorship_tag": "ABX9TyPX1r1uN53Jg/XJDhOzpicY",
      "include_colab_link": true
    },
    "kernelspec": {
      "name": "python3",
      "display_name": "Python 3"
    },
    "language_info": {
      "name": "python"
    }
  },
  "cells": [
    {
      "cell_type": "markdown",
      "metadata": {
        "id": "view-in-github",
        "colab_type": "text"
      },
      "source": [
        "<a href=\"https://colab.research.google.com/github/estudos-wanderson/Modelagem-Matem-tica/blob/main/Tema_3_Interpola%C3%A7%C3%A3o_Polinomial.ipynb\" target=\"_parent\"><img src=\"https://colab.research.google.com/assets/colab-badge.svg\" alt=\"Open In Colab\"/></a>"
      ]
    },
    {
      "cell_type": "markdown",
      "source": [
        "# **Funções de Aproximação e Interpolação**\n",
        "\n",
        "O objetivo da interpolação é encontrar uma função, digamos $p(x)$, que aproxime uma função desconhecida $f(x)$ da qual conhecemos apenas um conjunto de $n+1$ pontos: $(x_0, y_0)$, $(x_1, y_1), \\dots, (x_n, y_n)$, sendo $y_i = f(x_i)$.\n",
        "\n",
        "Existem duas abordagens principais, confira.\n",
        "\n",
        "- ## Interpolação\n",
        "\n",
        "Exige-se que a função $p(x)$ passe por todos os pontos dados. Ou seja, $p(x_i) = y_i$ para todo $i=0, 1, \\dots, n$. Essa abordagem é útil quando se acredita que os dados são precisos.\n",
        "\n",
        "- ## Ajuste de Curvas (ou Regressão)\n",
        "\n",
        "Não é desejável que a função passe por todos os pontos se os dados possuem erros experimentais ou ruídos. Em vez disso, busca-se uma função que represente a tendência geral dos dados, minimizando de alguma forma o \"erro\" entre a função e os pontos.\n",
        "\n",
        "---\n",
        "\n",
        "# Polinômio Interpolador\n",
        "\n",
        "A forma mais intuitiva de representar um polinômio interpolador de grau $n$ é utilizando a base monomial:\n",
        "$$p(x) = a_0 + a_1x + a_2x^2 + \\dots + a_nx^n$$\n",
        "\n",
        "Se temos $n+1$ pontos dados $(x_i, y_i)$, que são as entradas para um problema de interpolação, e queremos encontrar um polinômio de grau $n$ (ou menor) que passe por todos esses pontos, podemos substituir cada par $(x_i, y_i)$ na equação do polinômio. Isso gera um sistema de $n+1$ equações lineares com $n+1$ incógnitas com os coeficientes $a_0, a_1, \\dots, a_n$; veja:\n",
        "\n",
        "\\begin{align*}\n",
        "a_0 + a_1x_0 + a_2x_0^2 + \\dots + a_nx_0^n &= y_0 \\\\\n",
        "a_0 + a_1x_1 + a_2x_1^2 + \\dots + a_nx_1^n &= y_1 \\\\\n",
        "&\\vdots \\\\\n",
        "a_0 + a_1x_n + a_2x_n^2 + \\dots + a_nx_n^n &= y_n\n",
        "\\end{align*}\n",
        "\n",
        "Assim, o problema se resume em encontrar os coeficientes $a_0, a_1, \\dots, a_n$, ou seja, resolvendo o sistema linear anterior. Esse sistema pode ser resolvido utilizando métodos como eliminação de Gauss ou decomposição LU, determinando, assim, os valores dos coeficientes que definem o polinômio desejado.\n",
        "\n",
        "Sua representação matricial é dada por:\n",
        "$$\n",
        "\\begin{bmatrix}\n",
        "1 & x_0 & x_0^2 & \\dots & x_0^n \\\\\n",
        "1 & x_1 & x_1^2 & \\dots & x_1^n \\\\\n",
        "\\vdots & \\vdots & \\vdots & \\ddots & \\vdots \\\\\n",
        "1 & x_n & x_n^2 & \\dots & x_n^n\n",
        "\\end{bmatrix}\n",
        "\\begin{bmatrix}\n",
        "a_0 \\\\\n",
        "a_1 \\\\\n",
        "\\vdots \\\\\n",
        "a_n\n",
        "\\end{bmatrix}\n",
        "=\n",
        "\\begin{bmatrix}\n",
        "y_0 \\\\\n",
        "y_1 \\\\\n",
        "\\vdots \\\\\n",
        "y_n\n",
        "\\end{bmatrix}\n",
        "$$\n",
        "\n",
        "Para descobrir os coeficientes, basta resolver o sistema acima."
      ],
      "metadata": {
        "id": "KSZj791orJtX"
      }
    },
    {
      "cell_type": "code",
      "execution_count": 62,
      "metadata": {
        "id": "aFk1vMYCdnU2"
      },
      "outputs": [],
      "source": [
        "import numpy as np\n",
        "from typing import List, Tuple\n",
        "\n",
        "\n",
        "def interpolar(p: List[Tuple[float]]) -> np.array:\n",
        "    x, B = map(np.array, zip(*p))\n",
        "    n = len(x) - 1\n",
        "    A = np.zeros([n+1, n+1])\n",
        "    for k in range(n+1):\n",
        "        A[:, k] = x ** k\n",
        "\n",
        "    sol = np.linalg.solve(A, B)\n",
        "    return np.poly1d(sol[::-1])"
      ]
    },
    {
      "cell_type": "markdown",
      "source": [
        "**Exemplo**"
      ],
      "metadata": {
        "id": "pyg6dOS70-Vl"
      }
    },
    {
      "cell_type": "code",
      "source": [
        "sol = interpolar([\n",
        "    (1, 2),\n",
        "    (3, 4),\n",
        "    (5, 6),\n",
        "    (7, 8)\n",
        "])\n",
        "\n",
        "print(sol)"
      ],
      "metadata": {
        "colab": {
          "base_uri": "https://localhost:8080/"
        },
        "id": "-RBOV9Optpau",
        "outputId": "99367528-9805-4bdc-a917-504719e812a2"
      },
      "execution_count": 70,
      "outputs": [
        {
          "output_type": "stream",
          "name": "stdout",
          "text": [
            " \n",
            "1 x + 1\n"
          ]
        }
      ]
    },
    {
      "cell_type": "code",
      "source": [],
      "metadata": {
        "id": "WtSLaEg8ttRo"
      },
      "execution_count": null,
      "outputs": []
    }
  ]
}